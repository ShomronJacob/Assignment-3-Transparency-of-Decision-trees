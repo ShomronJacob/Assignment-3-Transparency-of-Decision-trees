{
 "cells": [
  {
   "cell_type": "code",
   "execution_count": null,
   "metadata": {},
   "outputs": [],
   "source": [
    "import pandas as pd\n",
    "import numpy as np\n",
    "import matplotlib as mpl\n",
    "import matplotlib.pyplot as plt\n",
    "import graphviz\n",
    "from sklearn.model_selection import train_test_split"
   ]
  },
  {
   "cell_type": "code",
   "execution_count": null,
   "metadata": {},
   "outputs": [],
   "source": [
    "# from sklearn.cross_validation import train_test_split\n",
    "from sklearn import tree\n",
    "from sklearn.tree import DecisionTreeClassifier, export_graphviz\n",
    "from sklearn.metrics import confusion_matrix, mean_squared_error,accuracy_score\n",
    "import urllib.request\n",
    "# Accutacy_score module will be used to calculate accuracy metrics from the predicted class variables."
   ]
  },
  {
   "cell_type": "code",
   "execution_count": null,
   "metadata": {},
   "outputs": [],
   "source": [
    "# Loading the data using its URL and printing its length and shape\n",
    "url=\"https://archive.ics.uci.edu/ml/machine-learning-databases/tae/tae.data\"\n",
    "\n",
    "raw_data=urllib.request.urlopen(url)\n",
    "\n",
    "balance_dataset=np.loadtxt(raw_data,delimiter=\",\")\n",
    "\n",
    "# To check the length and dimension of dataset\n",
    "print (\"Dataset Lenght:: \", len(balance_dataset))\n",
    "print (\"(Number of dataset, Attributes) Dataset Shape:: \", balance_dataset.shape)"
   ]
  },
  {
   "cell_type": "code",
   "execution_count": null,
   "metadata": {},
   "outputs": [],
   "source": [
    "# Splitting the data into test and train data\n",
    "X = balance_dataset[:,0:5] #input\n",
    "Y = balance_dataset[:,5] #target\n",
    "\n",
    "# X_train, y_train are training data\n",
    "# X_test, y_test belongs to the test dataset\n",
    "X_train, X_test,y_train, y_test = train_test_split( X, Y, test_size = 0.3, random_state = 100)"
   ]
  },
  {
   "cell_type": "code",
   "execution_count": null,
   "metadata": {},
   "outputs": [],
   "source": [
    "# Decision Tree Classifier using gini index as creterion for max depth as 1\n",
    "dtc1 = DecisionTreeClassifier(criterion = \"gini\", random_state = 100,max_depth=1, min_samples_leaf=2)\n",
    "dtc1.fit(X_train, y_train)\n",
    "print(dtc1)"
   ]
  },
  {
   "cell_type": "code",
   "execution_count": null,
   "metadata": {},
   "outputs": [],
   "source": [
    "# Decision Tree Classifier using gini index as creterion for max depth as 1\n",
    "dtc2 = DecisionTreeClassifier(criterion = \"gini\", random_state = 100,max_depth=2, min_samples_leaf=2)\n",
    "dtc2.fit(X_train, y_train)\n",
    "print(dtc2)"
   ]
  },
  {
   "cell_type": "code",
   "execution_count": null,
   "metadata": {},
   "outputs": [],
   "source": [
    "# Decision Tree Classifier using gini index as creterion for max depth as 1\n",
    "dtc3 = DecisionTreeClassifier(criterion = \"gini\", random_state = 100,max_depth=3, min_samples_leaf=2)\n",
    "dtc3.fit(X_train, y_train)\n",
    "print(dtc3)"
   ]
  },
  {
   "cell_type": "code",
   "execution_count": null,
   "metadata": {},
   "outputs": [],
   "source": [
    "# Decision Tree Classifier using gini index as creterion for max depth as 1\n",
    "dtc4 = DecisionTreeClassifier(criterion = \"gini\", random_state = 100,max_depth=4, min_samples_leaf=2)\n",
    "dtc4.fit(X_train, y_train)\n",
    "print(dtc4)"
   ]
  },
  {
   "cell_type": "code",
   "execution_count": null,
   "metadata": {},
   "outputs": [],
   "source": [
    "# Decision Tree Classifier using gini index as creterion for max depth as 1\n",
    "dtc5 = DecisionTreeClassifier(criterion = \"gini\", random_state = 100,max_depth=5, min_samples_leaf=2)\n",
    "dtc5.fit(X_train, y_train)\n",
    "print(dtc5)"
   ]
  },
  {
   "cell_type": "code",
   "execution_count": null,
   "metadata": {},
   "outputs": [],
   "source": [
    "# Decision Tree Classifier using gini index as creterion for max depth as 1\n",
    "dtc6 = DecisionTreeClassifier(criterion = \"gini\", random_state = 100,max_depth=6, min_samples_leaf=2)\n",
    "dtc6.fit(X_train, y_train)\n",
    "print(dtc6)"
   ]
  },
  {
   "cell_type": "code",
   "execution_count": null,
   "metadata": {},
   "outputs": [],
   "source": [
    "# Prediction for Decision Tree classifier with criterion as gini index on TEST \n",
    "# with depth1\n",
    "y_pred_test1 = dtc1.predict(X_test)\n",
    "print(y_pred_test1)\n",
    "\n",
    "# Prediction for Decision Tree classifier with criterion as gini index on TRAIN\n",
    "# with depth 1\n",
    "y_pred_train1 = dtc1.predict(X_train)\n",
    "print(y_pred_train1)"
   ]
  },
  {
   "cell_type": "code",
   "execution_count": null,
   "metadata": {},
   "outputs": [],
   "source": [
    "# Prediction for Decision Tree classifier with criterion as gini index on TEST \n",
    "# with depth2\n",
    "y_pred_test2 = dtc2.predict(X_test)\n",
    "print(y_pred_test2)\n",
    "\n",
    "# Prediction for Decision Tree classifier with criterion as gini index on TRAIN\n",
    "# with depth 2\n",
    "y_pred_train2 = dtc2.predict(X_train)\n",
    "print(y_pred_train2)"
   ]
  },
  {
   "cell_type": "code",
   "execution_count": null,
   "metadata": {},
   "outputs": [],
   "source": [
    "# Prediction for Decision Tree classifier with criterion as gini index on TEST \n",
    "# with depth 3\n",
    "y_pred_test3 = dtc3.predict(X_test)\n",
    "print(y_pred_test3)\n",
    "\n",
    "# Prediction for Decision Tree classifier with criterion as gini index on TRAIN\n",
    "# with depth 3\n",
    "y_pred_train3 = dtc3.predict(X_train)\n",
    "print(y_pred_train3)"
   ]
  },
  {
   "cell_type": "code",
   "execution_count": null,
   "metadata": {},
   "outputs": [],
   "source": [
    "# Prediction for Decision Tree classifier with criterion as gini index on TEST \n",
    "# with depth 4\n",
    "y_pred_test4 = dtc4.predict(X_test)\n",
    "print(y_pred_test4)\n",
    "\n",
    "# Prediction for Decision Tree classifier with criterion as gini index on TRAIN\n",
    "# with depth 4\n",
    "y_pred_train4 = dtc4.predict(X_train)\n",
    "print(y_pred_train4)"
   ]
  },
  {
   "cell_type": "code",
   "execution_count": null,
   "metadata": {},
   "outputs": [],
   "source": [
    "# Prediction for Decision Tree classifier with criterion as gini index on TEST \n",
    "# with depth 5\n",
    "y_pred_test5 = dtc5.predict(X_test)\n",
    "print(y_pred_test5)\n",
    "\n",
    "# Prediction for Decision Tree classifier with criterion as gini index on TRAIN\n",
    "# with depth 5\n",
    "y_pred_train5 = dtc5.predict(X_train)\n",
    "print(y_pred_train5)"
   ]
  },
  {
   "cell_type": "code",
   "execution_count": null,
   "metadata": {},
   "outputs": [],
   "source": [
    "# Prediction for Decision Tree classifier with criterion as gini index on TEST \n",
    "# with depth 6\n",
    "y_pred_test6 = dtc6.predict(X_test)\n",
    "print(y_pred_test6)\n",
    "\n",
    "# Prediction for Decision Tree classifier with criterion as gini index on TRAIN\n",
    "# with depth 6\n",
    "y_pred_train6 = dtc6.predict(X_train)\n",
    "print(y_pred_train6)"
   ]
  },
  {
   "cell_type": "code",
   "execution_count": null,
   "metadata": {},
   "outputs": [],
   "source": [
    "# Printing accuracy for Gini\n",
    "print (\"Accuracy of test with depth 1 is \", accuracy_score(y_test,y_pred_test1)*100)\n",
    "\n",
    "# Printing accuracy for Gini\n",
    "print (\"Accuracy for train with depth 1 is \", accuracy_score(y_train,y_pred_train1)*100)"
   ]
  },
  {
   "cell_type": "code",
   "execution_count": null,
   "metadata": {},
   "outputs": [],
   "source": [
    "# Printing accuracy for Gini\n",
    "print (\"Accuracy of test with depth 2 is \", accuracy_score(y_test,y_pred_test2)*100)\n",
    "\n",
    "# Printing accuracy for Gini\n",
    "print (\"Accuracy for train with depth 2 is \", accuracy_score(y_train,y_pred_train2)*100)"
   ]
  },
  {
   "cell_type": "code",
   "execution_count": null,
   "metadata": {},
   "outputs": [],
   "source": [
    "# Printing accuracy for Gini\n",
    "print (\"Accuracy of test with depth 3 is \", accuracy_score(y_test,y_pred_test3)*100)\n",
    "\n",
    "# Printing accuracy for Gini\n",
    "print (\"Accuracy for train with depth 3 is \", accuracy_score(y_train,y_pred_train3)*100)"
   ]
  },
  {
   "cell_type": "code",
   "execution_count": null,
   "metadata": {},
   "outputs": [],
   "source": [
    "# Printing accuracy for Gini\n",
    "print (\"Accuracy of test with depth 4 is \", accuracy_score(y_test,y_pred_test4)*100)\n",
    "\n",
    "# Printing accuracy for Gini\n",
    "print (\"Accuracy for train with depth 4 is \", accuracy_score(y_train,y_pred_train4)*100)"
   ]
  },
  {
   "cell_type": "code",
   "execution_count": null,
   "metadata": {},
   "outputs": [],
   "source": [
    "# Printing accuracy for Gini\n",
    "print (\"Accuracy of test with depth 5 is \", accuracy_score(y_test,y_pred_test5)*100)\n",
    "\n",
    "# Printing accuracy for Gini\n",
    "print (\"Accuracy for train with depth 5 is \", accuracy_score(y_train,y_pred_train5)*100)"
   ]
  },
  {
   "cell_type": "code",
   "execution_count": null,
   "metadata": {},
   "outputs": [],
   "source": [
    "# Printing accuracy for Gini\n",
    "print (\"Accuracy of test with depth 6 is \", accuracy_score(y_test,y_pred_test6)*100)\n",
    "\n",
    "# Printing accuracy for Gini\n",
    "print (\"Accuracy for train with depth 6 is \", accuracy_score(y_train,y_pred_train6)*100)"
   ]
  },
  {
   "cell_type": "code",
   "execution_count": null,
   "metadata": {
    "collapsed": true
   },
   "outputs": [],
   "source": [
    "import os\n",
    "tree.export_graphviz(dtc1,\n",
    "    out_file='tree1.dot',feature_names= [\"Course Instructor\",\"Course\",\"Summer or Regular Semester\",\"Class size\",\"Class attribute\"])\n",
    "os.system('dot -Tpng tree1.dot -o tree1.png for Graphviz')\n",
    "\n",
    "tree.export_graphviz(dtc2,\n",
    "    out_file='tree2.dot',feature_names= [\"Course Instructor\",\"Course\",\"Summer or Regular Semester\",\"Class size\",\"Class attribute\"])\n",
    "os.system('dot -Tpng tree2.dot -o tree2.png for Graphviz')\n",
    "\n",
    "tree.export_graphviz(dtc3,\n",
    "    out_file='tree3.dot',feature_names= [\"Course Instructor\",\"Course\",\"Summer or Regular Semester\",\"Class size\",\"Class attribute\"])\n",
    "os.system('dot -Tpng tree3.dot -o tree3.png for Graphviz')\n",
    "\n",
    "\n",
    "\n",
    "# from sklearn.externals.six import StringIO  \n",
    "# import pydot-ng as pydot\n",
    "# dot_data = StringIO() \n",
    "# tree.export_graphviz(dtc, out_file=dot_data) \n",
    "# graph = pydot.graph_from_dot_data(dot_data.getvalue()) [0]\n",
    "# graph.write_pdf(\"tree.pdf\")"
   ]
  }
 ],
 "metadata": {
  "kernelspec": {
   "display_name": "Python 2",
   "language": "python",
   "name": "python2"
  },
  "language_info": {
   "codemirror_mode": {
    "name": "ipython",
    "version": 2.0
   },
   "file_extension": ".py",
   "mimetype": "text/x-python",
   "name": "python",
   "nbconvert_exporter": "python",
   "pygments_lexer": "ipython2",
   "version": "2.7.6"
  }
 },
 "nbformat": 4,
 "nbformat_minor": 0
}